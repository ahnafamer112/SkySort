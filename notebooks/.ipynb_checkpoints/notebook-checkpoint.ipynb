{
 "cells": [
  {
   "cell_type": "markdown",
   "id": "3740a147-0da2-4ad3-b599-6a009ef1fad5",
   "metadata": {},
   "source": [
    "# SkySort"
   ]
  },
  {
   "cell_type": "markdown",
   "id": "68b2b342-85bd-47d7-842c-6579b8eb8da2",
   "metadata": {},
   "source": [
    "## Import Libraries"
   ]
  },
  {
   "cell_type": "code",
   "execution_count": 1,
   "id": "777ea720-f1b2-4ae0-91c7-166cefed9fcd",
   "metadata": {
    "tags": []
   },
   "outputs": [],
   "source": [
    "import pandas as pd\n",
    "import numpy as np\n",
    "import matplotlib.pyplot as plt\n",
    "import seaborn as sns\n",
    "\n",
    "from sklearn.model_selection import train_test_split\n",
    "from sklearn.preprocessing import StandardScaler\n",
    "from sklearn.metrics import classification_report, confusion_matrix\n",
    "from sklearn.ensemble import RandomForestClassifier"
   ]
  },
  {
   "cell_type": "markdown",
   "id": "26f35ebe-f0f0-4163-b86e-6df30d5364a1",
   "metadata": {},
   "source": [
    "#### Read SDSS_DR18 Data from the data folder into sdss_data"
   ]
  },
  {
   "cell_type": "code",
   "execution_count": 2,
   "id": "d53eb207-5929-46e9-9021-b8abda342bc5",
   "metadata": {
    "tags": []
   },
   "outputs": [],
   "source": [
    "sdss_data = pd.read_csv(\"../data/SDSS_DR18.csv\")"
   ]
  },
  {
   "cell_type": "markdown",
   "id": "4d79b46c-dfc1-4f4b-8ee9-6c08f014bfed",
   "metadata": {},
   "source": [
    "#### Manipulate the sdss_data"
   ]
  },
  {
   "cell_type": "code",
   "execution_count": 3,
   "id": "61720952-81d7-4940-8162-861653df5a15",
   "metadata": {
    "tags": []
   },
   "outputs": [
    {
     "data": {
      "text/html": [
       "<div>\n",
       "<style scoped>\n",
       "    .dataframe tbody tr th:only-of-type {\n",
       "        vertical-align: middle;\n",
       "    }\n",
       "\n",
       "    .dataframe tbody tr th {\n",
       "        vertical-align: top;\n",
       "    }\n",
       "\n",
       "    .dataframe thead th {\n",
       "        text-align: right;\n",
       "    }\n",
       "</style>\n",
       "<table border=\"1\" class=\"dataframe\">\n",
       "  <thead>\n",
       "    <tr style=\"text-align: right;\">\n",
       "      <th></th>\n",
       "      <th>objid</th>\n",
       "      <th>specobjid</th>\n",
       "      <th>ra</th>\n",
       "      <th>dec</th>\n",
       "      <th>u</th>\n",
       "      <th>g</th>\n",
       "      <th>r</th>\n",
       "      <th>i</th>\n",
       "      <th>z</th>\n",
       "      <th>run</th>\n",
       "      <th>...</th>\n",
       "      <th>psfMag_g</th>\n",
       "      <th>psfMag_i</th>\n",
       "      <th>psfMag_z</th>\n",
       "      <th>expAB_u</th>\n",
       "      <th>expAB_g</th>\n",
       "      <th>expAB_r</th>\n",
       "      <th>expAB_i</th>\n",
       "      <th>expAB_z</th>\n",
       "      <th>redshift</th>\n",
       "      <th>class</th>\n",
       "    </tr>\n",
       "  </thead>\n",
       "  <tbody>\n",
       "    <tr>\n",
       "      <th>0</th>\n",
       "      <td>1.240000e+18</td>\n",
       "      <td>3.240000e+17</td>\n",
       "      <td>184.950869</td>\n",
       "      <td>0.733068</td>\n",
       "      <td>18.87062</td>\n",
       "      <td>17.59612</td>\n",
       "      <td>17.11245</td>\n",
       "      <td>16.83899</td>\n",
       "      <td>16.70908</td>\n",
       "      <td>756</td>\n",
       "      <td>...</td>\n",
       "      <td>19.96352</td>\n",
       "      <td>19.25145</td>\n",
       "      <td>19.05230</td>\n",
       "      <td>0.479021</td>\n",
       "      <td>0.518483</td>\n",
       "      <td>0.520474</td>\n",
       "      <td>0.508502</td>\n",
       "      <td>0.488969</td>\n",
       "      <td>0.041691</td>\n",
       "      <td>GALAXY</td>\n",
       "    </tr>\n",
       "    <tr>\n",
       "      <th>1</th>\n",
       "      <td>1.240000e+18</td>\n",
       "      <td>3.250000e+17</td>\n",
       "      <td>185.729201</td>\n",
       "      <td>0.679704</td>\n",
       "      <td>19.59560</td>\n",
       "      <td>19.92153</td>\n",
       "      <td>20.34448</td>\n",
       "      <td>20.66213</td>\n",
       "      <td>20.59599</td>\n",
       "      <td>756</td>\n",
       "      <td>...</td>\n",
       "      <td>19.92417</td>\n",
       "      <td>20.65535</td>\n",
       "      <td>20.57387</td>\n",
       "      <td>0.573926</td>\n",
       "      <td>0.531728</td>\n",
       "      <td>0.403072</td>\n",
       "      <td>0.999874</td>\n",
       "      <td>0.189495</td>\n",
       "      <td>-0.000814</td>\n",
       "      <td>STAR</td>\n",
       "    </tr>\n",
       "    <tr>\n",
       "      <th>2</th>\n",
       "      <td>1.240000e+18</td>\n",
       "      <td>3.240000e+17</td>\n",
       "      <td>185.687690</td>\n",
       "      <td>0.823480</td>\n",
       "      <td>19.26421</td>\n",
       "      <td>17.87891</td>\n",
       "      <td>17.09593</td>\n",
       "      <td>16.65159</td>\n",
       "      <td>16.35329</td>\n",
       "      <td>756</td>\n",
       "      <td>...</td>\n",
       "      <td>19.33645</td>\n",
       "      <td>18.16669</td>\n",
       "      <td>17.78844</td>\n",
       "      <td>0.701666</td>\n",
       "      <td>0.743386</td>\n",
       "      <td>0.770897</td>\n",
       "      <td>0.778642</td>\n",
       "      <td>0.736771</td>\n",
       "      <td>0.113069</td>\n",
       "      <td>GALAXY</td>\n",
       "    </tr>\n",
       "    <tr>\n",
       "      <th>3</th>\n",
       "      <td>1.240000e+18</td>\n",
       "      <td>2.880000e+18</td>\n",
       "      <td>185.677904</td>\n",
       "      <td>0.768362</td>\n",
       "      <td>19.49739</td>\n",
       "      <td>17.96166</td>\n",
       "      <td>17.41269</td>\n",
       "      <td>17.20545</td>\n",
       "      <td>17.11567</td>\n",
       "      <td>756</td>\n",
       "      <td>...</td>\n",
       "      <td>17.96176</td>\n",
       "      <td>17.21564</td>\n",
       "      <td>17.12367</td>\n",
       "      <td>0.999818</td>\n",
       "      <td>0.787760</td>\n",
       "      <td>0.745611</td>\n",
       "      <td>0.399718</td>\n",
       "      <td>0.986137</td>\n",
       "      <td>0.000087</td>\n",
       "      <td>STAR</td>\n",
       "    </tr>\n",
       "    <tr>\n",
       "      <th>4</th>\n",
       "      <td>1.240000e+18</td>\n",
       "      <td>2.880000e+18</td>\n",
       "      <td>185.814763</td>\n",
       "      <td>0.776940</td>\n",
       "      <td>18.31519</td>\n",
       "      <td>16.83033</td>\n",
       "      <td>16.26352</td>\n",
       "      <td>16.06320</td>\n",
       "      <td>15.97527</td>\n",
       "      <td>756</td>\n",
       "      <td>...</td>\n",
       "      <td>16.85104</td>\n",
       "      <td>16.08275</td>\n",
       "      <td>15.98694</td>\n",
       "      <td>0.999795</td>\n",
       "      <td>0.834450</td>\n",
       "      <td>0.723526</td>\n",
       "      <td>0.712259</td>\n",
       "      <td>0.527055</td>\n",
       "      <td>0.000018</td>\n",
       "      <td>STAR</td>\n",
       "    </tr>\n",
       "  </tbody>\n",
       "</table>\n",
       "<p>5 rows × 43 columns</p>\n",
       "</div>"
      ],
      "text/plain": [
       "          objid     specobjid          ra       dec         u         g  \\\n",
       "0  1.240000e+18  3.240000e+17  184.950869  0.733068  18.87062  17.59612   \n",
       "1  1.240000e+18  3.250000e+17  185.729201  0.679704  19.59560  19.92153   \n",
       "2  1.240000e+18  3.240000e+17  185.687690  0.823480  19.26421  17.87891   \n",
       "3  1.240000e+18  2.880000e+18  185.677904  0.768362  19.49739  17.96166   \n",
       "4  1.240000e+18  2.880000e+18  185.814763  0.776940  18.31519  16.83033   \n",
       "\n",
       "          r         i         z  run  ...  psfMag_g  psfMag_i  psfMag_z  \\\n",
       "0  17.11245  16.83899  16.70908  756  ...  19.96352  19.25145  19.05230   \n",
       "1  20.34448  20.66213  20.59599  756  ...  19.92417  20.65535  20.57387   \n",
       "2  17.09593  16.65159  16.35329  756  ...  19.33645  18.16669  17.78844   \n",
       "3  17.41269  17.20545  17.11567  756  ...  17.96176  17.21564  17.12367   \n",
       "4  16.26352  16.06320  15.97527  756  ...  16.85104  16.08275  15.98694   \n",
       "\n",
       "    expAB_u   expAB_g   expAB_r   expAB_i   expAB_z  redshift   class  \n",
       "0  0.479021  0.518483  0.520474  0.508502  0.488969  0.041691  GALAXY  \n",
       "1  0.573926  0.531728  0.403072  0.999874  0.189495 -0.000814    STAR  \n",
       "2  0.701666  0.743386  0.770897  0.778642  0.736771  0.113069  GALAXY  \n",
       "3  0.999818  0.787760  0.745611  0.399718  0.986137  0.000087    STAR  \n",
       "4  0.999795  0.834450  0.723526  0.712259  0.527055  0.000018    STAR  \n",
       "\n",
       "[5 rows x 43 columns]"
      ]
     },
     "execution_count": 3,
     "metadata": {},
     "output_type": "execute_result"
    }
   ],
   "source": [
    "sdss_data.head()"
   ]
  },
  {
   "cell_type": "code",
   "execution_count": 4,
   "id": "8e40e41e-9711-4101-93b4-063b543d2f40",
   "metadata": {
    "tags": []
   },
   "outputs": [
    {
     "data": {
      "text/plain": [
       "Index(['objid', 'specobjid', 'ra', 'dec', 'u', 'g', 'r', 'i', 'z', 'run',\n",
       "       'rerun', 'camcol', 'field', 'plate', 'mjd', 'fiberid', 'petroRad_u',\n",
       "       'petroRad_g', 'petroRad_i', 'petroRad_r', 'petroRad_z', 'petroFlux_u',\n",
       "       'petroFlux_g', 'petroFlux_i', 'petroFlux_r', 'petroFlux_z',\n",
       "       'petroR50_u', 'petroR50_g', 'petroR50_i', 'petroR50_r', 'petroR50_z',\n",
       "       'psfMag_u', 'psfMag_r', 'psfMag_g', 'psfMag_i', 'psfMag_z', 'expAB_u',\n",
       "       'expAB_g', 'expAB_r', 'expAB_i', 'expAB_z', 'redshift', 'class'],\n",
       "      dtype='object')"
      ]
     },
     "execution_count": 4,
     "metadata": {},
     "output_type": "execute_result"
    }
   ],
   "source": [
    "sdss_data.columns"
   ]
  },
  {
   "cell_type": "markdown",
   "id": "c0832775-b5da-48cb-9b81-e928f80949c1",
   "metadata": {},
   "source": [
    "As we can see from the column names, for the classifying whether an object is a star, galaxy or quasar, we will be use the 5 sdss filters (u, g, r, i, z) and the class column to train the dataset. We will be pulling u, g, r, i, z and class columns to another data frame to use for training the model."
   ]
  },
  {
   "cell_type": "code",
   "execution_count": 5,
   "id": "d69c5a0d-2e89-4d38-ac93-bded4746b1ed",
   "metadata": {
    "tags": []
   },
   "outputs": [],
   "source": [
    "columns_needed = ['u', 'g', 'r', 'i', 'z', 'class']"
   ]
  },
  {
   "cell_type": "code",
   "execution_count": 6,
   "id": "0057f999-20a5-420b-8094-c598975535d9",
   "metadata": {
    "tags": []
   },
   "outputs": [
    {
     "data": {
      "text/html": [
       "<div>\n",
       "<style scoped>\n",
       "    .dataframe tbody tr th:only-of-type {\n",
       "        vertical-align: middle;\n",
       "    }\n",
       "\n",
       "    .dataframe tbody tr th {\n",
       "        vertical-align: top;\n",
       "    }\n",
       "\n",
       "    .dataframe thead th {\n",
       "        text-align: right;\n",
       "    }\n",
       "</style>\n",
       "<table border=\"1\" class=\"dataframe\">\n",
       "  <thead>\n",
       "    <tr style=\"text-align: right;\">\n",
       "      <th></th>\n",
       "      <th>u</th>\n",
       "      <th>g</th>\n",
       "      <th>r</th>\n",
       "      <th>i</th>\n",
       "      <th>z</th>\n",
       "      <th>class</th>\n",
       "    </tr>\n",
       "  </thead>\n",
       "  <tbody>\n",
       "    <tr>\n",
       "      <th>0</th>\n",
       "      <td>18.87062</td>\n",
       "      <td>17.59612</td>\n",
       "      <td>17.11245</td>\n",
       "      <td>16.83899</td>\n",
       "      <td>16.70908</td>\n",
       "      <td>GALAXY</td>\n",
       "    </tr>\n",
       "    <tr>\n",
       "      <th>1</th>\n",
       "      <td>19.59560</td>\n",
       "      <td>19.92153</td>\n",
       "      <td>20.34448</td>\n",
       "      <td>20.66213</td>\n",
       "      <td>20.59599</td>\n",
       "      <td>STAR</td>\n",
       "    </tr>\n",
       "    <tr>\n",
       "      <th>2</th>\n",
       "      <td>19.26421</td>\n",
       "      <td>17.87891</td>\n",
       "      <td>17.09593</td>\n",
       "      <td>16.65159</td>\n",
       "      <td>16.35329</td>\n",
       "      <td>GALAXY</td>\n",
       "    </tr>\n",
       "    <tr>\n",
       "      <th>3</th>\n",
       "      <td>19.49739</td>\n",
       "      <td>17.96166</td>\n",
       "      <td>17.41269</td>\n",
       "      <td>17.20545</td>\n",
       "      <td>17.11567</td>\n",
       "      <td>STAR</td>\n",
       "    </tr>\n",
       "    <tr>\n",
       "      <th>4</th>\n",
       "      <td>18.31519</td>\n",
       "      <td>16.83033</td>\n",
       "      <td>16.26352</td>\n",
       "      <td>16.06320</td>\n",
       "      <td>15.97527</td>\n",
       "      <td>STAR</td>\n",
       "    </tr>\n",
       "    <tr>\n",
       "      <th>...</th>\n",
       "      <td>...</td>\n",
       "      <td>...</td>\n",
       "      <td>...</td>\n",
       "      <td>...</td>\n",
       "      <td>...</td>\n",
       "      <td>...</td>\n",
       "    </tr>\n",
       "    <tr>\n",
       "      <th>99995</th>\n",
       "      <td>19.39861</td>\n",
       "      <td>18.35476</td>\n",
       "      <td>18.00348</td>\n",
       "      <td>17.89408</td>\n",
       "      <td>17.81222</td>\n",
       "      <td>STAR</td>\n",
       "    </tr>\n",
       "    <tr>\n",
       "      <th>99996</th>\n",
       "      <td>19.07703</td>\n",
       "      <td>18.05159</td>\n",
       "      <td>17.78332</td>\n",
       "      <td>17.68976</td>\n",
       "      <td>17.66209</td>\n",
       "      <td>STAR</td>\n",
       "    </tr>\n",
       "    <tr>\n",
       "      <th>99997</th>\n",
       "      <td>19.07982</td>\n",
       "      <td>17.51349</td>\n",
       "      <td>16.64037</td>\n",
       "      <td>16.24183</td>\n",
       "      <td>15.91180</td>\n",
       "      <td>GALAXY</td>\n",
       "    </tr>\n",
       "    <tr>\n",
       "      <th>99998</th>\n",
       "      <td>17.27528</td>\n",
       "      <td>16.41704</td>\n",
       "      <td>16.11662</td>\n",
       "      <td>15.98858</td>\n",
       "      <td>15.97745</td>\n",
       "      <td>STAR</td>\n",
       "    </tr>\n",
       "    <tr>\n",
       "      <th>99999</th>\n",
       "      <td>17.90598</td>\n",
       "      <td>16.86471</td>\n",
       "      <td>16.51673</td>\n",
       "      <td>16.35695</td>\n",
       "      <td>16.22508</td>\n",
       "      <td>GALAXY</td>\n",
       "    </tr>\n",
       "  </tbody>\n",
       "</table>\n",
       "<p>100000 rows × 6 columns</p>\n",
       "</div>"
      ],
      "text/plain": [
       "              u         g         r         i         z   class\n",
       "0      18.87062  17.59612  17.11245  16.83899  16.70908  GALAXY\n",
       "1      19.59560  19.92153  20.34448  20.66213  20.59599    STAR\n",
       "2      19.26421  17.87891  17.09593  16.65159  16.35329  GALAXY\n",
       "3      19.49739  17.96166  17.41269  17.20545  17.11567    STAR\n",
       "4      18.31519  16.83033  16.26352  16.06320  15.97527    STAR\n",
       "...         ...       ...       ...       ...       ...     ...\n",
       "99995  19.39861  18.35476  18.00348  17.89408  17.81222    STAR\n",
       "99996  19.07703  18.05159  17.78332  17.68976  17.66209    STAR\n",
       "99997  19.07982  17.51349  16.64037  16.24183  15.91180  GALAXY\n",
       "99998  17.27528  16.41704  16.11662  15.98858  15.97745    STAR\n",
       "99999  17.90598  16.86471  16.51673  16.35695  16.22508  GALAXY\n",
       "\n",
       "[100000 rows x 6 columns]"
      ]
     },
     "execution_count": 6,
     "metadata": {},
     "output_type": "execute_result"
    }
   ],
   "source": [
    "cleaned_data = sdss_data[columns_needed]\n",
    "cleaned_data"
   ]
  },
  {
   "cell_type": "code",
   "execution_count": 7,
   "id": "599a7d78-36f7-48e5-a622-81137d909da0",
   "metadata": {
    "tags": []
   },
   "outputs": [
    {
     "name": "stdout",
     "output_type": "stream",
     "text": [
      "GALAXY    52343\n",
      "STAR      37232\n",
      "QSO       10425\n",
      "Name: class, dtype: int64\n"
     ]
    }
   ],
   "source": [
    "class_count = print(sdss_data['class'].value_counts())\n",
    "class_count"
   ]
  },
  {
   "cell_type": "code",
   "execution_count": 11,
   "id": "f5aa88ad-6a62-4b81-a804-7b617aed2969",
   "metadata": {
    "tags": []
   },
   "outputs": [],
   "source": [
    "features = cleaned_data[['u', 'g', 'r', 'i', 'z']]\n",
    "target = cleaned_data['class']"
   ]
  },
  {
   "cell_type": "code",
   "execution_count": 12,
   "id": "3646c7db-59a0-4317-b859-458a75a7a64b",
   "metadata": {
    "tags": []
   },
   "outputs": [],
   "source": [
    "features_train, features_test, target_train, target_test = train_test_split(\n",
    "    features, target, test_size = 0.2, random_state = 42)"
   ]
  },
  {
   "cell_type": "code",
   "execution_count": 13,
   "id": "4d1406eb-3ecd-4d80-a683-795123896af2",
   "metadata": {
    "tags": []
   },
   "outputs": [],
   "source": [
    "model = RandomForestClassifier(n_estimators=100, random_state=42)"
   ]
  },
  {
   "cell_type": "code",
   "execution_count": 15,
   "id": "73e8c6d6-3596-498c-8038-7417a3a6a522",
   "metadata": {
    "tags": []
   },
   "outputs": [
    {
     "data": {
      "text/html": [
       "<style>#sk-container-id-1 {color: black;}#sk-container-id-1 pre{padding: 0;}#sk-container-id-1 div.sk-toggleable {background-color: white;}#sk-container-id-1 label.sk-toggleable__label {cursor: pointer;display: block;width: 100%;margin-bottom: 0;padding: 0.3em;box-sizing: border-box;text-align: center;}#sk-container-id-1 label.sk-toggleable__label-arrow:before {content: \"▸\";float: left;margin-right: 0.25em;color: #696969;}#sk-container-id-1 label.sk-toggleable__label-arrow:hover:before {color: black;}#sk-container-id-1 div.sk-estimator:hover label.sk-toggleable__label-arrow:before {color: black;}#sk-container-id-1 div.sk-toggleable__content {max-height: 0;max-width: 0;overflow: hidden;text-align: left;background-color: #f0f8ff;}#sk-container-id-1 div.sk-toggleable__content pre {margin: 0.2em;color: black;border-radius: 0.25em;background-color: #f0f8ff;}#sk-container-id-1 input.sk-toggleable__control:checked~div.sk-toggleable__content {max-height: 200px;max-width: 100%;overflow: auto;}#sk-container-id-1 input.sk-toggleable__control:checked~label.sk-toggleable__label-arrow:before {content: \"▾\";}#sk-container-id-1 div.sk-estimator input.sk-toggleable__control:checked~label.sk-toggleable__label {background-color: #d4ebff;}#sk-container-id-1 div.sk-label input.sk-toggleable__control:checked~label.sk-toggleable__label {background-color: #d4ebff;}#sk-container-id-1 input.sk-hidden--visually {border: 0;clip: rect(1px 1px 1px 1px);clip: rect(1px, 1px, 1px, 1px);height: 1px;margin: -1px;overflow: hidden;padding: 0;position: absolute;width: 1px;}#sk-container-id-1 div.sk-estimator {font-family: monospace;background-color: #f0f8ff;border: 1px dotted black;border-radius: 0.25em;box-sizing: border-box;margin-bottom: 0.5em;}#sk-container-id-1 div.sk-estimator:hover {background-color: #d4ebff;}#sk-container-id-1 div.sk-parallel-item::after {content: \"\";width: 100%;border-bottom: 1px solid gray;flex-grow: 1;}#sk-container-id-1 div.sk-label:hover label.sk-toggleable__label {background-color: #d4ebff;}#sk-container-id-1 div.sk-serial::before {content: \"\";position: absolute;border-left: 1px solid gray;box-sizing: border-box;top: 0;bottom: 0;left: 50%;z-index: 0;}#sk-container-id-1 div.sk-serial {display: flex;flex-direction: column;align-items: center;background-color: white;padding-right: 0.2em;padding-left: 0.2em;position: relative;}#sk-container-id-1 div.sk-item {position: relative;z-index: 1;}#sk-container-id-1 div.sk-parallel {display: flex;align-items: stretch;justify-content: center;background-color: white;position: relative;}#sk-container-id-1 div.sk-item::before, #sk-container-id-1 div.sk-parallel-item::before {content: \"\";position: absolute;border-left: 1px solid gray;box-sizing: border-box;top: 0;bottom: 0;left: 50%;z-index: -1;}#sk-container-id-1 div.sk-parallel-item {display: flex;flex-direction: column;z-index: 1;position: relative;background-color: white;}#sk-container-id-1 div.sk-parallel-item:first-child::after {align-self: flex-end;width: 50%;}#sk-container-id-1 div.sk-parallel-item:last-child::after {align-self: flex-start;width: 50%;}#sk-container-id-1 div.sk-parallel-item:only-child::after {width: 0;}#sk-container-id-1 div.sk-dashed-wrapped {border: 1px dashed gray;margin: 0 0.4em 0.5em 0.4em;box-sizing: border-box;padding-bottom: 0.4em;background-color: white;}#sk-container-id-1 div.sk-label label {font-family: monospace;font-weight: bold;display: inline-block;line-height: 1.2em;}#sk-container-id-1 div.sk-label-container {text-align: center;}#sk-container-id-1 div.sk-container {/* jupyter's `normalize.less` sets `[hidden] { display: none; }` but bootstrap.min.css set `[hidden] { display: none !important; }` so we also need the `!important` here to be able to override the default hidden behavior on the sphinx rendered scikit-learn.org. See: https://github.com/scikit-learn/scikit-learn/issues/21755 */display: inline-block !important;position: relative;}#sk-container-id-1 div.sk-text-repr-fallback {display: none;}</style><div id=\"sk-container-id-1\" class=\"sk-top-container\"><div class=\"sk-text-repr-fallback\"><pre>RandomForestClassifier(random_state=42)</pre><b>In a Jupyter environment, please rerun this cell to show the HTML representation or trust the notebook. <br />On GitHub, the HTML representation is unable to render, please try loading this page with nbviewer.org.</b></div><div class=\"sk-container\" hidden><div class=\"sk-item\"><div class=\"sk-estimator sk-toggleable\"><input class=\"sk-toggleable__control sk-hidden--visually\" id=\"sk-estimator-id-1\" type=\"checkbox\" checked><label for=\"sk-estimator-id-1\" class=\"sk-toggleable__label sk-toggleable__label-arrow\">RandomForestClassifier</label><div class=\"sk-toggleable__content\"><pre>RandomForestClassifier(random_state=42)</pre></div></div></div></div></div>"
      ],
      "text/plain": [
       "RandomForestClassifier(random_state=42)"
      ]
     },
     "execution_count": 15,
     "metadata": {},
     "output_type": "execute_result"
    }
   ],
   "source": [
    "model.fit(features_train, target_train)"
   ]
  },
  {
   "cell_type": "code",
   "execution_count": 16,
   "id": "01cb542b-8cf5-428f-8072-57f254a16159",
   "metadata": {
    "tags": []
   },
   "outputs": [],
   "source": [
    "target_pred = model.predict(features_test)"
   ]
  },
  {
   "cell_type": "code",
   "execution_count": 17,
   "id": "4e189541-d859-4ffe-a49a-f652be6b98d3",
   "metadata": {
    "tags": []
   },
   "outputs": [
    {
     "name": "stdout",
     "output_type": "stream",
     "text": [
      "Accuracy: 0.95515\n",
      "              precision    recall  f1-score   support\n",
      "\n",
      "      GALAXY       0.97      0.96      0.96     10373\n",
      "         QSO       0.93      0.91      0.92      2115\n",
      "        STAR       0.94      0.96      0.95      7512\n",
      "\n",
      "    accuracy                           0.96     20000\n",
      "   macro avg       0.95      0.94      0.95     20000\n",
      "weighted avg       0.96      0.96      0.96     20000\n",
      "\n"
     ]
    }
   ],
   "source": [
    "from sklearn.metrics import accuracy_score, classification_report\n",
    "\n",
    "print(\"Accuracy:\", accuracy_score(target_test, target_pred))\n",
    "print(classification_report(target_test, target_pred))\n"
   ]
  },
  {
   "cell_type": "code",
   "execution_count": null,
   "id": "db775b5c-a39a-4ff8-8130-5f698baaeadb",
   "metadata": {},
   "outputs": [],
   "source": []
  }
 ],
 "metadata": {
  "kernelspec": {
   "display_name": "Python 3 (ipykernel)",
   "language": "python",
   "name": "python3"
  },
  "language_info": {
   "codemirror_mode": {
    "name": "ipython",
    "version": 3
   },
   "file_extension": ".py",
   "mimetype": "text/x-python",
   "name": "python",
   "nbconvert_exporter": "python",
   "pygments_lexer": "ipython3",
   "version": "3.11.4"
  }
 },
 "nbformat": 4,
 "nbformat_minor": 5
}
